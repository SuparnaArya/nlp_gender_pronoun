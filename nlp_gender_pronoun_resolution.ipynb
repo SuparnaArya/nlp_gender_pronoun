{
  "nbformat": 4,
  "nbformat_minor": 0,
  "metadata": {
    "colab": {
      "provenance": [],
      "gpuType": "T4",
      "machine_shape": "hm"
    },
    "kernelspec": {
      "name": "python3",
      "display_name": "Python 3"
    },
    "language_info": {
      "name": "python"
    },
    "accelerator": "GPU"
  },
  "cells": [
    {
      "cell_type": "code",
      "source": [
        "!pip install pytorch-pretrained-bert"
      ],
      "metadata": {
        "colab": {
          "base_uri": "https://localhost:8080/"
        },
        "id": "Ste2bOE2sguk",
        "outputId": "5acbde7f-c6ed-4f6c-bd82-10d4f4912857"
      },
      "execution_count": null,
      "outputs": [
        {
          "output_type": "stream",
          "name": "stdout",
          "text": [
            "Looking in indexes: https://pypi.org/simple, https://us-python.pkg.dev/colab-wheels/public/simple/\n",
            "Collecting pytorch-pretrained-bert\n",
            "  Downloading pytorch_pretrained_bert-0.6.2-py3-none-any.whl (123 kB)\n",
            "\u001b[2K     \u001b[90m━━━━━━━━━━━━━━━━━━━━━━━━━━━━━━━━━━━━━━━\u001b[0m \u001b[32m123.8/123.8 kB\u001b[0m \u001b[31m3.5 MB/s\u001b[0m eta \u001b[36m0:00:00\u001b[0m\n",
            "\u001b[?25hRequirement already satisfied: torch>=0.4.1 in /usr/local/lib/python3.10/dist-packages (from pytorch-pretrained-bert) (2.0.1+cu118)\n",
            "Requirement already satisfied: numpy in /usr/local/lib/python3.10/dist-packages (from pytorch-pretrained-bert) (1.22.4)\n",
            "Collecting boto3 (from pytorch-pretrained-bert)\n",
            "  Downloading boto3-1.26.153-py3-none-any.whl (135 kB)\n",
            "\u001b[2K     \u001b[90m━━━━━━━━━━━━━━━━━━━━━━━━━━━━━━━━━━━━━━\u001b[0m \u001b[32m135.6/135.6 kB\u001b[0m \u001b[31m11.1 MB/s\u001b[0m eta \u001b[36m0:00:00\u001b[0m\n",
            "\u001b[?25hRequirement already satisfied: requests in /usr/local/lib/python3.10/dist-packages (from pytorch-pretrained-bert) (2.27.1)\n",
            "Requirement already satisfied: tqdm in /usr/local/lib/python3.10/dist-packages (from pytorch-pretrained-bert) (4.65.0)\n",
            "Requirement already satisfied: regex in /usr/local/lib/python3.10/dist-packages (from pytorch-pretrained-bert) (2022.10.31)\n",
            "Requirement already satisfied: filelock in /usr/local/lib/python3.10/dist-packages (from torch>=0.4.1->pytorch-pretrained-bert) (3.12.0)\n",
            "Requirement already satisfied: typing-extensions in /usr/local/lib/python3.10/dist-packages (from torch>=0.4.1->pytorch-pretrained-bert) (4.5.0)\n",
            "Requirement already satisfied: sympy in /usr/local/lib/python3.10/dist-packages (from torch>=0.4.1->pytorch-pretrained-bert) (1.11.1)\n",
            "Requirement already satisfied: networkx in /usr/local/lib/python3.10/dist-packages (from torch>=0.4.1->pytorch-pretrained-bert) (3.1)\n",
            "Requirement already satisfied: jinja2 in /usr/local/lib/python3.10/dist-packages (from torch>=0.4.1->pytorch-pretrained-bert) (3.1.2)\n",
            "Requirement already satisfied: triton==2.0.0 in /usr/local/lib/python3.10/dist-packages (from torch>=0.4.1->pytorch-pretrained-bert) (2.0.0)\n",
            "Requirement already satisfied: cmake in /usr/local/lib/python3.10/dist-packages (from triton==2.0.0->torch>=0.4.1->pytorch-pretrained-bert) (3.25.2)\n",
            "Requirement already satisfied: lit in /usr/local/lib/python3.10/dist-packages (from triton==2.0.0->torch>=0.4.1->pytorch-pretrained-bert) (16.0.5)\n",
            "Collecting botocore<1.30.0,>=1.29.153 (from boto3->pytorch-pretrained-bert)\n",
            "  Downloading botocore-1.29.153-py3-none-any.whl (10.9 MB)\n",
            "\u001b[2K     \u001b[90m━━━━━━━━━━━━━━━━━━━━━━━━━━━━━━━━━━━━━━━━\u001b[0m \u001b[32m10.9/10.9 MB\u001b[0m \u001b[31m68.2 MB/s\u001b[0m eta \u001b[36m0:00:00\u001b[0m\n",
            "\u001b[?25hCollecting jmespath<2.0.0,>=0.7.1 (from boto3->pytorch-pretrained-bert)\n",
            "  Downloading jmespath-1.0.1-py3-none-any.whl (20 kB)\n",
            "Collecting s3transfer<0.7.0,>=0.6.0 (from boto3->pytorch-pretrained-bert)\n",
            "  Downloading s3transfer-0.6.1-py3-none-any.whl (79 kB)\n",
            "\u001b[2K     \u001b[90m━━━━━━━━━━━━━━━━━━━━━━━━━━━━━━━━━━━━━━━━\u001b[0m \u001b[32m79.8/79.8 kB\u001b[0m \u001b[31m10.6 MB/s\u001b[0m eta \u001b[36m0:00:00\u001b[0m\n",
            "\u001b[?25hRequirement already satisfied: urllib3<1.27,>=1.21.1 in /usr/local/lib/python3.10/dist-packages (from requests->pytorch-pretrained-bert) (1.26.15)\n",
            "Requirement already satisfied: certifi>=2017.4.17 in /usr/local/lib/python3.10/dist-packages (from requests->pytorch-pretrained-bert) (2022.12.7)\n",
            "Requirement already satisfied: charset-normalizer~=2.0.0 in /usr/local/lib/python3.10/dist-packages (from requests->pytorch-pretrained-bert) (2.0.12)\n",
            "Requirement already satisfied: idna<4,>=2.5 in /usr/local/lib/python3.10/dist-packages (from requests->pytorch-pretrained-bert) (3.4)\n",
            "Requirement already satisfied: python-dateutil<3.0.0,>=2.1 in /usr/local/lib/python3.10/dist-packages (from botocore<1.30.0,>=1.29.153->boto3->pytorch-pretrained-bert) (2.8.2)\n",
            "Requirement already satisfied: MarkupSafe>=2.0 in /usr/local/lib/python3.10/dist-packages (from jinja2->torch>=0.4.1->pytorch-pretrained-bert) (2.1.2)\n",
            "Requirement already satisfied: mpmath>=0.19 in /usr/local/lib/python3.10/dist-packages (from sympy->torch>=0.4.1->pytorch-pretrained-bert) (1.3.0)\n",
            "Requirement already satisfied: six>=1.5 in /usr/local/lib/python3.10/dist-packages (from python-dateutil<3.0.0,>=2.1->botocore<1.30.0,>=1.29.153->boto3->pytorch-pretrained-bert) (1.16.0)\n",
            "Installing collected packages: jmespath, botocore, s3transfer, boto3, pytorch-pretrained-bert\n",
            "Successfully installed boto3-1.26.153 botocore-1.29.153 jmespath-1.0.1 pytorch-pretrained-bert-0.6.2 s3transfer-0.6.1\n"
          ]
        }
      ]
    },
    {
      "cell_type": "code",
      "execution_count": null,
      "metadata": {
        "id": "HFEPc7jZr8Wd"
      },
      "outputs": [],
      "source": [
        "import torch\n",
        "import torch.nn as nn\n",
        "import numpy as np\n",
        "import pandas as pd\n",
        "from torch.utils.data import Dataset, DataLoader\n",
        "from pytorch_pretrained_bert import BertTokenizer\n",
        "from pytorch_pretrained_bert.modeling import BertModel"
      ]
    },
    {
      "cell_type": "code",
      "source": [
        "!gdown 1yuPNBZ0zyurc7mQc4VZtg1ygfH-gq7o3\n",
        "!unzip data.zip"
      ],
      "metadata": {
        "colab": {
          "base_uri": "https://localhost:8080/"
        },
        "id": "tEEPA22N1evY",
        "outputId": "3254b377-5afd-4323-e832-bf01a47f2dbc"
      },
      "execution_count": null,
      "outputs": [
        {
          "output_type": "stream",
          "name": "stdout",
          "text": [
            "Downloading...\n",
            "From: https://drive.google.com/uc?id=1yuPNBZ0zyurc7mQc4VZtg1ygfH-gq7o3\n",
            "To: /content/data.zip\n",
            "\r  0% 0.00/983k [00:00<?, ?B/s]\r100% 983k/983k [00:00<00:00, 164MB/s]\n",
            "Archive:  data.zip\n",
            "  inflating: gap-development.tsv     \n",
            "  inflating: __MACOSX/._gap-development.tsv  \n",
            "  inflating: gap-test.tsv            \n",
            "  inflating: __MACOSX/._gap-test.tsv  \n",
            "  inflating: gap-validation.tsv      \n",
            "  inflating: __MACOSX/._gap-validation.tsv  \n"
          ]
        }
      ]
    },
    {
      "cell_type": "code",
      "source": [
        "def insert_tag(row):\n",
        "    \"\"\"Insert custom tags to help us find the position of A, B, and the pronoun after tokenization.\"\"\"\n",
        "    to_be_inserted = sorted([\n",
        "        (row[\"A-offset\"], \" [A] \"),\n",
        "        (row[\"B-offset\"], \" [B] \"),\n",
        "        (row[\"Pronoun-offset\"], \" [P] \")\n",
        "    ], key=lambda x: x[0], reverse=True)\n",
        "    text = row[\"Text\"]\n",
        "    for offset, tag in to_be_inserted:\n",
        "        text = text[:offset] + tag + text[offset:]\n",
        "    return text\n",
        "\n",
        "def tokenize(text, tokenizer):\n",
        "    \"\"\"Returns a list of tokens and the positions of A, B, and the pronoun.\"\"\"\n",
        "    entries = {}\n",
        "    final_tokens = []\n",
        "    for token in tokenizer.tokenize(text):\n",
        "        if token in (\"[A]\", \"[B]\", \"[P]\"):\n",
        "            entries[token] = len(final_tokens)\n",
        "            continue\n",
        "        final_tokens.append(token)\n",
        "    return final_tokens, (entries[\"[A]\"], entries[\"[B]\"], entries[\"[P]\"])"
      ],
      "metadata": {
        "id": "MLoMSPMSsWxh"
      },
      "execution_count": null,
      "outputs": []
    },
    {
      "cell_type": "code",
      "source": [
        "class GAPDataset(Dataset):\n",
        "    \"\"\"Custom GAP Dataset class\"\"\"\n",
        "    def __init__(self, df, tokenizer, labeled=True):\n",
        "        self.labeled = labeled\n",
        "        if labeled:\n",
        "            tmp = df[[\"A-coref\", \"B-coref\"]].copy()\n",
        "            tmp[\"Neither\"] = ~(df[\"A-coref\"] | df[\"B-coref\"])\n",
        "            self.y = tmp.values.astype(\"bool\")\n",
        "        # Extracts the tokens and offsets(positions of A, B, and P)\n",
        "        self.offsets, self.tokens = [], []\n",
        "        for _, row in df.iterrows():\n",
        "            text = insert_tag(row)\n",
        "            tokens, offsets = tokenize(text, tokenizer)\n",
        "            self.offsets.append(offsets)\n",
        "            self.tokens.append(tokenizer.convert_tokens_to_ids(\n",
        "                [\"[CLS]\"] + tokens + [\"[SEP]\"]))\n",
        "\n",
        "    def __len__(self):\n",
        "        return len(self.tokens)\n",
        "\n",
        "    def __getitem__(self, idx):\n",
        "        if self.labeled:\n",
        "            return self.tokens[idx], self.offsets[idx], self.y[idx]\n",
        "        return self.tokens[idx], self.offsets[idx], None\n"
      ],
      "metadata": {
        "id": "-gdRPrPZsq9_"
      },
      "execution_count": null,
      "outputs": []
    },
    {
      "cell_type": "code",
      "source": [
        "def collate_examples(batch, truncate_len=500):\n",
        "    \"\"\"Batch preparation.\n",
        "\n",
        "    1. Pad the sequences\n",
        "    2. Transform the target.\n",
        "    \"\"\"\n",
        "    transposed = list(zip(*batch))\n",
        "    max_len = min(\n",
        "        max((len(x) for x in transposed[0])),\n",
        "        truncate_len\n",
        "    )\n",
        "    tokens = np.zeros((len(batch), max_len), dtype=np.int64)\n",
        "    for i, row in enumerate(transposed[0]):\n",
        "        row = np.array(row[:truncate_len])\n",
        "        tokens[i, :len(row)] = row\n",
        "    token_tensor = torch.from_numpy(tokens)\n",
        "    # Offsets\n",
        "    offsets = torch.stack([\n",
        "        torch.LongTensor(x) for x in transposed[1]\n",
        "    ], dim=0) + 1 # Account for the [CLS] token\n",
        "    # Labels\n",
        "    if len(transposed) == 2:\n",
        "        return token_tensor, offsets, None\n",
        "    one_hot_labels = torch.stack([\n",
        "        torch.from_numpy(x.astype(\"uint8\")) for x in transposed[2]\n",
        "    ], dim=0)\n",
        "    _, labels = one_hot_labels.max(dim=1)\n",
        "    return token_tensor, offsets, labels"
      ],
      "metadata": {
        "id": "TH7ib5IRsxX9"
      },
      "execution_count": null,
      "outputs": []
    },
    {
      "cell_type": "code",
      "source": [
        "df_train = pd.read_csv(\"gap-development.tsv\", delimiter=\"\\t\")\n",
        "df_val = pd.read_csv(\"gap-validation.tsv\", delimiter=\"\\t\")\n",
        "df_test = pd.read_csv(\"gap-test.tsv\", delimiter=\"\\t\")"
      ],
      "metadata": {
        "id": "C6EUgGYgs-Uy"
      },
      "execution_count": null,
      "outputs": []
    },
    {
      "cell_type": "code",
      "source": [
        "BERT_MODEL = 'bert-large-uncased'\n",
        "CASED = False"
      ],
      "metadata": {
        "id": "phRqUlDetj7f"
      },
      "execution_count": null,
      "outputs": []
    },
    {
      "cell_type": "code",
      "source": [
        "tokenizer = BertTokenizer.from_pretrained(\n",
        "    BERT_MODEL,\n",
        "    do_lower_case=CASED,\n",
        "    never_split = (\"[UNK]\", \"[SEP]\", \"[PAD]\", \"[CLS]\", \"[MASK]\", \"[A]\", \"[B]\", \"[P]\")\n",
        ")\n",
        "# These are not actually used, assigned arbitrary values.\n",
        "tokenizer.vocab[\"[A]\"] = -1\n",
        "tokenizer.vocab[\"[B]\"] = -1\n",
        "tokenizer.vocab[\"[P]\"] = -1"
      ],
      "metadata": {
        "colab": {
          "base_uri": "https://localhost:8080/"
        },
        "id": "ZEii-XJBt1Wo",
        "outputId": "6b775d50-dea7-4738-f376-615f5cfad29b"
      },
      "execution_count": null,
      "outputs": [
        {
          "output_type": "stream",
          "name": "stderr",
          "text": [
            "WARNING:pytorch_pretrained_bert.tokenization:The pre-trained model you are loading is an uncased model but you have set `do_lower_case` to False. We are setting `do_lower_case=True` for you but you may want to check this behavior.\n",
            "100%|██████████| 231508/231508 [00:00<00:00, 2666070.67B/s]\n"
          ]
        }
      ]
    },
    {
      "cell_type": "code",
      "source": [
        "train_ds = GAPDataset(df_train, tokenizer)\n",
        "val_ds = GAPDataset(df_val, tokenizer)\n",
        "test_ds = GAPDataset(df_test, tokenizer)\n",
        "train_loader = DataLoader(\n",
        "    train_ds,\n",
        "    collate_fn = collate_examples,\n",
        "    batch_size=5,\n",
        "    num_workers=2,\n",
        "    pin_memory=True,\n",
        "    shuffle=True,\n",
        "    drop_last=True\n",
        ")\n",
        "val_loader = DataLoader(\n",
        "    val_ds,\n",
        "    collate_fn = collate_examples,\n",
        "    batch_size=5,\n",
        "    num_workers=2,\n",
        "    pin_memory=True,\n",
        "    shuffle=False\n",
        ")\n",
        "test_loader = DataLoader(\n",
        "    test_ds,\n",
        "    collate_fn = collate_examples,\n",
        "    batch_size=2,\n",
        "    num_workers=2,\n",
        "    pin_memory=True,\n",
        "    shuffle=False\n",
        ")"
      ],
      "metadata": {
        "id": "ParfDRPft-Ym"
      },
      "execution_count": null,
      "outputs": []
    },
    {
      "cell_type": "code",
      "source": [
        "model = BertModel.from_pretrained(BERT_MODEL)\n",
        "device = torch.device(\"cuda\" if torch.cuda.is_available() else \"cpu\")\n",
        "print(device)"
      ],
      "metadata": {
        "colab": {
          "base_uri": "https://localhost:8080/"
        },
        "id": "QwHakmeP3cpM",
        "outputId": "7de09525-2491-4dd0-fdc6-de016afd79cc"
      },
      "execution_count": null,
      "outputs": [
        {
          "output_type": "stream",
          "name": "stderr",
          "text": [
            "100%|██████████| 1248501532/1248501532 [00:26<00:00, 47125781.46B/s]\n"
          ]
        },
        {
          "output_type": "stream",
          "name": "stdout",
          "text": [
            "cuda\n"
          ]
        }
      ]
    },
    {
      "cell_type": "code",
      "source": [
        "# Adjusted BertFineTuningModel\n",
        "class BertFineTuningModel(nn.Module):\n",
        "    def __init__(self, bert_model):\n",
        "        super(BertFineTuningModel, self).__init__()\n",
        "        self.bert = bert_model\n",
        "        self.drop = nn.Dropout(p=0.5)\n",
        "        self.fc = nn.Linear(1024, 3)  # 1024 is the hidden size of BERT\n",
        "\n",
        "    def forward(self, input_ids, attention_mask):\n",
        "        _, pooled_output = self.bert(input_ids, attention_mask=attention_mask)\n",
        "        logits = self.fc(pooled_output)\n",
        "        return logits"
      ],
      "metadata": {
        "id": "7IO7kv6U71a7"
      },
      "execution_count": null,
      "outputs": []
    },
    {
      "cell_type": "code",
      "source": [
        "# Create an instance of the bertfinetuning\n",
        "model = BertFineTuningModel(model)\n",
        "model.to(device)\n",
        "\n",
        "# Set the optimizer and learning rate\n",
        "optimizer = torch.optim.AdamW(model.parameters(), lr=1e-5, weight_decay=0.002)\n",
        "\n",
        "# Set the number of training epochs\n",
        "num_epochs = 4\n",
        "\n",
        "# Set loss\n",
        "loss_fn = nn.CrossEntropyLoss()  # Switched to CrossEntropyLoss as we don't apply softmax in the model"
      ],
      "metadata": {
        "id": "kW2csluC_Qwc"
      },
      "execution_count": null,
      "outputs": []
    },
    {
      "cell_type": "code",
      "source": [
        "# Training loop\n",
        "losses=[]\n",
        "val_losses=[]\n",
        "for epoch in range(num_epochs):\n",
        "    model.train()\n",
        "    total_loss = 0\n",
        "    for tokens, offsets, labels in train_loader:\n",
        "        # Move tensors to the configured device\n",
        "        tokens = tokens.to(device).long()\n",
        "        attention_mask = (tokens != 0).to(device).long()\n",
        "        labels = labels.to(device)\n",
        "\n",
        "        # Forward pass\n",
        "        optimizer.zero_grad()\n",
        "        outputs = model(tokens, attention_mask)\n",
        "        loss = loss_fn(outputs, labels)\n",
        "\n",
        "        # Backward pass\n",
        "        loss.backward()\n",
        "        optimizer.step()\n",
        "\n",
        "        total_loss += loss.item()\n",
        "\n",
        "    avg_train_loss = total_loss / len(train_loader)\n",
        "    losses.append(avg_train_loss)\n",
        "\n",
        "    # Validation loop\n",
        "    model.eval()\n",
        "    total_val_loss = 0\n",
        "    with torch.no_grad():\n",
        "        for tokens, offsets, labels in val_loader:\n",
        "            tokens = tokens.to(device).long()\n",
        "            attention_mask = (tokens != 0).to(device).long()\n",
        "            labels = labels.to(device)\n",
        "\n",
        "            outputs = model(tokens, attention_mask)\n",
        "            loss = loss_fn(outputs, labels)\n",
        "\n",
        "            total_val_loss += loss.item()\n",
        "\n",
        "        avg_val_loss = total_val_loss / len(val_loader)\n",
        "        val_losses.append(avg_val_loss)\n",
        "\n",
        "    # Print the average training and validation loss for the epoch\n",
        "    print(f'Epoch {epoch + 1}: train_loss = {avg_train_loss}, val_loss = {avg_val_loss}')\n",
        "\n",
        "# Save the fine-tuned model\n",
        "#torch.save(model.state_dict(), 'finetuned_bert.pth')\n"
      ],
      "metadata": {
        "id": "JrQsjLHr_n9B",
        "colab": {
          "base_uri": "https://localhost:8080/"
        },
        "outputId": "42b8e045-668b-40a4-c06d-81cbdcba800d"
      },
      "execution_count": null,
      "outputs": [
        {
          "output_type": "stream",
          "name": "stdout",
          "text": [
            "Epoch 1: train_loss = 0.951506832242012, val_loss = 0.9917545030856955\n",
            "Epoch 2: train_loss = 0.9163109713792801, val_loss = 0.9772615103886045\n",
            "Epoch 3: train_loss = 0.83825828358531, val_loss = 1.0147916962360513\n",
            "Epoch 4: train_loss = 0.5974088263325393, val_loss = 1.2510317440690666\n"
          ]
        }
      ]
    },
    {
      "cell_type": "code",
      "source": [
        "import matplotlib.pyplot as plt\n",
        "plt.plot(losses)\n",
        "plt.plot(val_losses)"
      ],
      "metadata": {
        "id": "J-S4_kTmqDLc",
        "colab": {
          "base_uri": "https://localhost:8080/",
          "height": 447
        },
        "outputId": "bbaf8516-97cc-42dd-829b-303864975117"
      },
      "execution_count": null,
      "outputs": [
        {
          "output_type": "execute_result",
          "data": {
            "text/plain": [
              "[<matplotlib.lines.Line2D at 0x7f0aeb606f80>]"
            ]
          },
          "metadata": {},
          "execution_count": 15
        },
        {
          "output_type": "display_data",
          "data": {
            "text/plain": [
              "<Figure size 640x480 with 1 Axes>"
            ],
            "image/png": "[encoded data removed]"
          },
          "metadata": {}
        }
      ]
    },
    {
      "cell_type": "code",
      "source": [
        "#from google.colab import files\n",
        "#files.download('finetuned_bert.pth')"
      ],
      "metadata": {
        "id": "LdYianYBvYoR"
      },
      "execution_count": null,
      "outputs": []
    },
    {
      "cell_type": "code",
      "source": [
        "torch.save(model.state_dict(), 'finetuned_bert.pth')\n",
        "from google.colab import files\n",
        "files.download('finetuned_bert.pth')"
      ],
      "metadata": {
        "colab": {
          "base_uri": "https://localhost:8080/",
          "height": 17
        },
        "id": "38i0Cs9jG4yV",
        "outputId": "0a5f16e0-0099-4bf2-e6a9-cb51cd19aed6"
      },
      "execution_count": null,
      "outputs": [
        {
          "output_type": "display_data",
          "data": {
            "text/plain": [
              "<IPython.core.display.Javascript object>"
            ],
            "application/javascript": [
              "\n",
              "    async function download(id, filename, size) {\n",
              "      if (!google.colab.kernel.accessAllowed) {\n",
              "        return;\n",
              "      }\n",
              "      const div = document.createElement('div');\n",
              "      const label = document.createElement('label');\n",
              "      label.textContent = `Downloading \"${filename}\": `;\n",
              "      div.appendChild(label);\n",
              "      const progress = document.createElement('progress');\n",
              "      progress.max = size;\n",
              "      div.appendChild(progress);\n",
              "      document.body.appendChild(div);\n",
              "\n",
              "      const buffers = [];\n",
              "      let downloaded = 0;\n",
              "\n",
              "      const channel = await google.colab.kernel.comms.open(id);\n",
              "      // Send a message to notify the kernel that we're ready.\n",
              "      channel.send({})\n",
              "\n",
              "      for await (const message of channel.messages) {\n",
              "        // Send a message to notify the kernel that we're ready.\n",
              "        channel.send({})\n",
              "        if (message.buffers) {\n",
              "          for (const buffer of message.buffers) {\n",
              "            buffers.push(buffer);\n",
              "            downloaded += buffer.byteLength;\n",
              "            progress.value = downloaded;\n",
              "          }\n",
              "        }\n",
              "      }\n",
              "      const blob = new Blob(buffers, {type: 'application/binary'});\n",
              "      const a = document.createElement('a');\n",
              "      a.href = window.URL.createObjectURL(blob);\n",
              "      a.download = filename;\n",
              "      div.appendChild(a);\n",
              "      a.click();\n",
              "      div.remove();\n",
              "    }\n",
              "  "
            ]
          },
          "metadata": {}
        },
        {
          "output_type": "display_data",
          "data": {
            "text/plain": [
              "<IPython.core.display.Javascript object>"
            ],
            "application/javascript": [
              "download(\"download_26ffef5f-ccca-461d-b71c-b39f0b624b8c\", \"finetuned_bert.pth\", 1340740348)"
            ]
          },
          "metadata": {}
        }
      ]
    },
    {
      "cell_type": "markdown",
      "source": [
        "## Test:"
      ],
      "metadata": {
        "id": "UXIizOVs6mIL"
      }
    },
    {
      "cell_type": "code",
      "source": [
        "model.eval()\n",
        "\n",
        "predicted_labels = []\n",
        "true_labels = []\n",
        "\n",
        "\n",
        "for tokens, offsets, labels in test_loader:\n",
        "\n",
        "    tokens = tokens.to(device).long()\n",
        "    attention_mask = (tokens != 0).to(device).long()\n",
        "    labels = labels.to(device)\n",
        "\n",
        "    outputs = model(tokens, attention_mask)\n",
        "\n",
        "    # Compute predicted labels\n",
        "    _, predicted = torch.max(outputs, dim=1)\n",
        "\n",
        "    predicted_labels.extend(predicted.tolist())\n",
        "    true_labels.extend(labels.tolist())"
      ],
      "metadata": {
        "id": "gyoyACSKIfLP",
        "colab": {
          "base_uri": "https://localhost:8080/"
        },
        "outputId": "64e20984-efcb-44f1-812d-ccb02847f78a"
      },
      "execution_count": null,
      "outputs": [
        {
          "output_type": "stream",
          "name": "stdout",
          "text": [
            "Accuracy: 0.5435000061988831\n",
            "Confusion Matrix:\n",
            "[[461 434  23]\n",
            " [227 614  14]\n",
            " [100 115  12]]\n"
          ]
        }
      ]
    },
    {
      "cell_type": "code",
      "source": [
        "from sklearn.metrics import confusion_matrix\n",
        "import seaborn as sns\n",
        "\n",
        "# Compute accuracy\n",
        "accuracy = torch.eq(torch.tensor(predicted_labels), torch.tensor(true_labels)).float().mean().item()\n",
        "print(f'Accuracy = {accuracy}')\n",
        "# Compute confusion matrix\n",
        "confusion_mat = confusion_matrix(true_labels, predicted_labels)\n",
        "\n",
        "fig, ax = plt.subplots(figsize=(8, 6))\n",
        "heatmap = sns.heatmap(confusion_mat, annot=True, fmt=\"d\", cmap=\"Blues\", cbar=False)\n",
        "ax.set_xlabel(\"Predicted labels\")\n",
        "ax.set_ylabel(\"True labels\")\n",
        "ax.set_title(\"Confusion Matrix\")\n",
        "class_names = [\"A\", \"B\", \"Neither\"]\n",
        "ax.set_xticklabels(class_names)\n",
        "ax.set_yticklabels(class_names)\n",
        "plt.xticks(rotation=45)\n",
        "\n",
        "plt.show()"
      ],
      "metadata": {
        "colab": {
          "base_uri": "https://localhost:8080/",
          "height": 613
        },
        "id": "Kpu5gKkLLR_K",
        "outputId": "20d1a364-7f4a-4b99-d4d9-9538e182761c"
      },
      "execution_count": null,
      "outputs": [
        {
          "output_type": "stream",
          "name": "stdout",
          "text": [
            "Accuracy = 0.5435000061988831\n"
          ]
        },
        {
          "output_type": "display_data",
          "data": {
            "text/plain": [
              "<Figure size 800x600 with 1 Axes>"
            ],
            "image/png": "[encoded data removed]"
          },
          "metadata": {}
        }
      ]
    }
  ]
}